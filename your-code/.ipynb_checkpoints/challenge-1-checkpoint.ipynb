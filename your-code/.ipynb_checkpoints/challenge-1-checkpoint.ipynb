{
 "cells": [
  {
   "cell_type": "markdown",
   "metadata": {},
   "source": [
    "## Challenge 1: Tuples\n",
    "\n",
    "#### Do you know you can create tuples with only one element?\n",
    "\n",
    "**In the cell below, define a variable `tup` with a single element `\"I\"`.**\n",
    "\n",
    "*Hint: you need to add a comma (`,`) after the single element.*"
   ]
  },
  {
   "cell_type": "code",
   "execution_count": 16,
   "metadata": {},
   "outputs": [],
   "source": [
    "# Your code here\n",
    "tup=(\"I\",)"
   ]
  },
  {
   "cell_type": "markdown",
   "metadata": {},
   "source": [
    "#### Print the type of `tup`. \n",
    "\n",
    "Make sure its type is correct (i.e. *tuple* instead of *str*)."
   ]
  },
  {
   "cell_type": "code",
   "execution_count": 32,
   "metadata": {},
   "outputs": [
    {
     "name": "stdout",
     "output_type": "stream",
     "text": [
      "<class 'tuple'>\n"
     ]
    }
   ],
   "source": [
    "# Your code here\n",
    "print(type(tup))"
   ]
  },
  {
   "cell_type": "markdown",
   "metadata": {},
   "source": [
    "#### Now try to append the following elements to `tup`. \n",
    "\n",
    "Are you able to do it? Explain.\n",
    "\n",
    "```\n",
    "\"r\", \"o\", \"n\", \"h\", \"a\", \"c\", \"k',\n",
    "```"
   ]
  },
  {
   "cell_type": "code",
   "execution_count": 17,
   "metadata": {},
   "outputs": [
    {
     "ename": "TypeError",
     "evalue": "'tuple' object does not support item assignment",
     "output_type": "error",
     "traceback": [
      "\u001b[1;31m---------------------------------------------------------------------------\u001b[0m",
      "\u001b[1;31mTypeError\u001b[0m                                 Traceback (most recent call last)",
      "\u001b[1;32m<ipython-input-17-f3f6937670da>\u001b[0m in \u001b[0;36m<module>\u001b[1;34m\u001b[0m\n\u001b[0;32m      1\u001b[0m \u001b[1;31m# Your code here\u001b[0m\u001b[1;33m\u001b[0m\u001b[1;33m\u001b[0m\u001b[1;33m\u001b[0m\u001b[0m\n\u001b[1;32m----> 2\u001b[1;33m \u001b[0mtup\u001b[0m\u001b[1;33m[\u001b[0m\u001b[1;36m1\u001b[0m\u001b[1;33m]\u001b[0m\u001b[1;33m=\u001b[0m \u001b[1;34m\"r\"\u001b[0m\u001b[1;33m\u001b[0m\u001b[1;33m\u001b[0m\u001b[0m\n\u001b[0m\u001b[0;32m      3\u001b[0m \u001b[1;31m# Your explanation here\u001b[0m\u001b[1;33m\u001b[0m\u001b[1;33m\u001b[0m\u001b[1;33m\u001b[0m\u001b[0m\n",
      "\u001b[1;31mTypeError\u001b[0m: 'tuple' object does not support item assignment"
     ]
    }
   ],
   "source": [
    "# Your code here\n",
    "tup[1]= \"r\"\n",
    "# Your explanation here\n",
    "# it raised the error \"\"'tuple' object does not support item assignment\" because tuples are unchangeable."
   ]
  },
  {
   "cell_type": "markdown",
   "metadata": {},
   "source": [
    "#### How about re-assign a new value to an existing tuple?\n",
    "\n",
    "Re-assign the following elements to `tup`. Are you able to do it? Explain.\n",
    "\n",
    "```\n",
    "\"I\", \"r\", \"o\", \"n\", \"h\", \"a\", \"c\", \"k\"\n",
    "```"
   ]
  },
  {
   "cell_type": "code",
   "execution_count": 6,
   "metadata": {},
   "outputs": [
    {
     "name": "stdout",
     "output_type": "stream",
     "text": [
      "Tup= ('I', 'R', 'O', 'N', 'H', 'A', 'C', 'K')\n"
     ]
    }
   ],
   "source": [
    "# Your code here\n",
    "tup = ('I',)\n",
    "list_t = list(tup)\n",
    "list_t.append('R')\n",
    "list_t.append('O')\n",
    "list_t.append('N')\n",
    "list_t.append('H')\n",
    "list_t.append('A')\n",
    "list_t.append('C')\n",
    "list_t.append('K')\n",
    "tup_ = tuple(list_t)\n",
    "print(\"Tup=\", tup_)\n",
    "# Your explanation here\n",
    "#So, as tuples are not changeable, we need to convert it to a list before, add elements and then convert it to a tuple again."
   ]
  },
  {
   "cell_type": "markdown",
   "metadata": {},
   "source": [
    "#### Split `tup` into `tup1` and `tup2` with 4 elements in each. \n",
    "\n",
    "`tup1` should be `(\"I\", \"r\", \"o\", \"n\")` and `tup2` should be `(\"h\", \"a\", \"c\", \"k\")`.\n",
    "\n",
    "*Hint: use positive index numbers for `tup1` assignment and use negative index numbers for `tup2` assignment. Positive index numbers count from the beginning whereas negative index numbers count from the end of the sequence.*\n",
    "\n",
    "Also print `tup1` and `tup2`."
   ]
  },
  {
   "cell_type": "code",
   "execution_count": 18,
   "metadata": {},
   "outputs": [
    {
     "name": "stdout",
     "output_type": "stream",
     "text": [
      "Tuple 1= ('I', 'R', 'O', 'N')\n",
      "Tuple 2= ('H', 'A', 'C', 'K')\n"
     ]
    }
   ],
   "source": [
    "# Your code here\n",
    "tup_= ('I', 'R', 'O', 'N', 'H', 'A', 'C', 'K')\n",
    "tup1= tup_[0:4]\n",
    "tup2= tup_[-4:8]\n",
    "print(\"Tuple 1=\", tup1)\n",
    "print(\"Tuple 2=\", tup2)"
   ]
  },
  {
   "cell_type": "markdown",
   "metadata": {},
   "source": [
    "#### Add `tup1` and `tup2` into `tup3` using the `+` operator.\n",
    "\n",
    "Then print `tup3` and check if `tup3` equals to `tup`."
   ]
  },
  {
   "cell_type": "code",
   "execution_count": 21,
   "metadata": {},
   "outputs": [
    {
     "name": "stdout",
     "output_type": "stream",
     "text": [
      "Tuple 3= ('I', 'R', 'O', 'N', 'H', 'A', 'C', 'K')\n"
     ]
    }
   ],
   "source": [
    "# Your code here\n",
    "tup3=tup1+tup2\n",
    "print(\"Tuple 3=\", tup3)"
   ]
  },
  {
   "cell_type": "markdown",
   "metadata": {},
   "source": [
    "#### Count the number of elements in `tup1` and `tup2`. Then add the two counts together and check if the sum is the same as the number of elements in `tup3`"
   ]
  },
  {
   "cell_type": "code",
   "execution_count": 30,
   "metadata": {},
   "outputs": [
    {
     "name": "stdout",
     "output_type": "stream",
     "text": [
      "Number of elements in tup 1: 4\n",
      "Number of elements in tup 2: 4\n",
      "Number of elements of tup 1 and tup 2 together: 8\n",
      "Number of elements in tup 3: 8\n"
     ]
    }
   ],
   "source": [
    "# Your code here\n",
    "print(\"Number of elements in tup 1:\", len(tup1))\n",
    "print(\"Number of elements in tup 2:\", len(tup2))\n",
    "print(\"Number of elements of tup 1 and tup 2 together:\", len(tup1)+len(tup2))\n",
    "print(\"Number of elements in tup 3:\", len(tup3))"
   ]
  },
  {
   "cell_type": "markdown",
   "metadata": {},
   "source": [
    "#### What is the index number of `\"h\"` in `tup3`?"
   ]
  },
  {
   "cell_type": "code",
   "execution_count": 38,
   "metadata": {},
   "outputs": [
    {
     "name": "stdout",
     "output_type": "stream",
     "text": [
      "The index of H: 4\n"
     ]
    }
   ],
   "source": [
    "# Your code here\n",
    "tup3= ('I', 'R', 'O', 'N', 'H', 'A', 'C', 'K')\n",
    "index = tup3.index('H')\n",
    "print('The index of H:', index)"
   ]
  },
  {
   "cell_type": "markdown",
   "metadata": {},
   "source": [
    "#### Now, use a FOR loop to check whether each letter in the following list is present in `tup3`:\n",
    "\n",
    "```\n",
    "letters = [\"a\", \"b\", \"c\", \"d\", \"e\"]\n",
    "```\n",
    "\n",
    "For each letter you check, print `True` if it is present in `tup3` otherwise print `False`.\n",
    "\n",
    "*Hint: you only need to loop `letters`. You don't need to loop `tup3` because there is a Python operator `in` you can use. See [reference](https://stackoverflow.com/questions/17920147/how-to-check-if-a-tuple-contains-an-element-in-python).*"
   ]
  },
  {
   "cell_type": "code",
   "execution_count": 44,
   "metadata": {},
   "outputs": [
    {
     "name": "stdout",
     "output_type": "stream",
     "text": [
      "['I', 'R', 'O', 'N', 'H', 'A', 'C', 'K']\n",
      "{'a': 1, 'b': 1, 'c': 1, 'd': 1, 'e': 1}\n",
      "{'I': 1, 'R': 1, 'O': 1, 'N': 1, 'H': 1, 'A': 1, 'C': 1, 'K': 1}\n"
     ]
    },
    {
     "data": {
      "text/plain": [
       "False"
      ]
     },
     "execution_count": 44,
     "metadata": {},
     "output_type": "execute_result"
    }
   ],
   "source": [
    "# Your code here\n",
    "\n",
    "letters =[\"a\", \"b\", \"c\", \"d\", \"e\"]\n",
    "tup3= ('I', 'R', 'O', 'N', 'H', 'A', 'C', 'K')\n",
    "list_tup3= list(tup3)\n",
    "print (list(tup3))\n",
    "\n",
    "letters_dict = {}\n",
    "\n",
    "for letter in letters:\n",
    "  if letter in letters_dict.keys():\n",
    "    letters_dict[letter] = letters_dict[letter] + 1 \n",
    "  else:\n",
    "    letters_dict[letter] = 1\n",
    "print(letters_dict)\n",
    "\n",
    "list_tup3_dict = {}\n",
    "\n",
    "for letter in list_tup3:\n",
    "  if letter in list_tup3_dict.keys():\n",
    "    list_tup3_dict[letter] = list_tup3_dict[letter] + 1 \n",
    "  else:\n",
    "    list_tup3_dict[letter] = 1 \n",
    "print(list_tup3_dict)\n",
    "\n",
    "letters_dict == list_tup3_dict"
   ]
  },
  {
   "cell_type": "markdown",
   "metadata": {},
   "source": [
    "#### How many times does each letter in `letters` appear in `tup3`?\n",
    "\n",
    "Print out the number of occurrence of each letter."
   ]
  },
  {
   "cell_type": "code",
   "execution_count": 43,
   "metadata": {},
   "outputs": [
    {
     "name": "stdout",
     "output_type": "stream",
     "text": [
      "Number of ocurrence of each letter: Counter({'I': 1, 'R': 1, 'O': 1, 'N': 1, 'H': 1, 'A': 1, 'C': 1, 'K': 1})\n"
     ]
    }
   ],
   "source": [
    "# Your code here\n",
    "from collections import Counter\n",
    "print(\"Number of ocurrence of each letter:\", Counter(tup3))"
   ]
  }
 ],
 "metadata": {
  "kernelspec": {
   "display_name": "Python 3",
   "language": "python",
   "name": "python3"
  },
  "language_info": {
   "codemirror_mode": {
    "name": "ipython",
    "version": 3
   },
   "file_extension": ".py",
   "mimetype": "text/x-python",
   "name": "python",
   "nbconvert_exporter": "python",
   "pygments_lexer": "ipython3",
   "version": "3.8.3"
  }
 },
 "nbformat": 4,
 "nbformat_minor": 2
}
