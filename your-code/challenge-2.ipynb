{
 "cells": [
  {
   "cell_type": "markdown",
   "metadata": {},
   "source": [
    "## Challenge 2: Sets\n",
    "\n",
    "There are a lot to learn about Python Sets and the information presented in the lesson is limited due to its length. To learn Python Sets in depth you are strongly encouraged to review the W3Schools tutorial on [Python Sets Examples and Methods](https://www.w3schools.com/python/python_sets.asp) before you work on this lab. Some difficult questions in this lab have their solutions in the W3Schools tutorial.\n",
    "\n",
    "#### First, import the Python `random` libary"
   ]
  },
  {
   "cell_type": "code",
   "execution_count": 3,
   "metadata": {},
   "outputs": [],
   "source": [
    "import random"
   ]
  },
  {
   "cell_type": "markdown",
   "metadata": {},
   "source": [
    "#### 1 - In the cell below, create a list named `sample_list_1` with 80 random values. \n",
    "\n",
    "Requirements:\n",
    "\n",
    "* Each value is an integer falling between 0 and 100.\n",
    "* Each value in the list is unique.\n",
    "\n",
    "Print `sample_list_1` to review its values\n",
    "\n",
    "*Hint: use `random.sample` ([reference](https://docs.python.org/3/library/random.html#random.sample)).*"
   ]
  },
  {
   "cell_type": "code",
   "execution_count": 10,
   "metadata": {},
   "outputs": [
    {
     "name": "stdout",
     "output_type": "stream",
     "text": [
      "List of 80 random numbers between 0 and 100: [45, 21, 44, 97, 78, 53, 40, 82, 72, 14, 99, 2, 10, 43, 26, 30, 88, 12, 6, 35, 96, 83, 98, 62, 69, 95, 15, 35, 43, 17, 42, 64, 18, 52, 34, 72, 48, 3, 69, 0, 9, 45, 52, 45, 19, 0, 32, 82, 78, 75, 11, 45, 53, 57, 34, 0, 56, 42, 80, 95, 91, 37, 93, 29, 44, 87, 5, 70, 29, 76, 36, 4, 89, 97, 48, 95, 7, 69, 37, 53]\n",
      "Length of the list: 80\n"
     ]
    }
   ],
   "source": [
    "# Your code here\n",
    "sample_list_1 = []\n",
    "\n",
    "for i in range(0,80):\n",
    "    x = random.randint(0,100)\n",
    "    sample_list_1.append(x)\n",
    "\n",
    "print(\"List of 80 random numbers between 0 and 100:\", sample_list_1)\n",
    "print(\"Length of the list:\", len(sample_list_1))"
   ]
  },
  {
   "cell_type": "markdown",
   "metadata": {},
   "source": [
    "#### 2 - Convert `sample_list_1` to a set called `set1`. Print the length of the set. Is its length still 80?"
   ]
  },
  {
   "cell_type": "code",
   "execution_count": 15,
   "metadata": {},
   "outputs": [
    {
     "name": "stdout",
     "output_type": "stream",
     "text": [
      "set1= {0, 2, 3, 4, 5, 6, 7, 9, 10, 11, 12, 14, 15, 17, 18, 19, 21, 26, 29, 30, 32, 34, 35, 36, 37, 40, 42, 43, 44, 45, 48, 52, 53, 56, 57, 62, 64, 69, 70, 72, 75, 76, 78, 80, 82, 83, 87, 88, 89, 91, 93, 95, 96, 97, 98, 99}\n",
      "Length of the set: 56\n"
     ]
    }
   ],
   "source": [
    "# Your code here\n",
    "sample_list_1 = set(sample_list_1)\n",
    "print(\"set1=\", set(sample_list_1))\n",
    "print(\"Length of the set:\", len(set(sample_list_1)))"
   ]
  },
  {
   "cell_type": "markdown",
   "metadata": {},
   "source": [
    "#### 3 - Create another list named `sample_list_2` with 80 random values.\n",
    "\n",
    "Requirements:\n",
    "\n",
    "* Each value is an integer falling between 0 and 100.\n",
    "* The values in the list don't have to be unique.\n",
    "\n",
    "*Hint: Use a FOR loop.*"
   ]
  },
  {
   "cell_type": "code",
   "execution_count": 17,
   "metadata": {},
   "outputs": [
    {
     "name": "stdout",
     "output_type": "stream",
     "text": [
      "List of 80 random numbers between 0 and 100: [85, 4, 84, 13, 99, 23, 6, 52, 64, 90, 1, 95, 47, 5, 69, 23, 59, 16, 66, 53, 38, 6, 80, 72, 38, 69, 33, 37, 74, 52, 86, 91, 87, 74, 31, 17, 85, 74, 32, 24, 65, 96, 65, 65, 28, 53, 34, 100, 68, 29, 56, 37, 3, 66, 18, 32, 56, 94, 56, 84, 97, 85, 12, 86, 76, 27, 33, 73, 25, 96, 31, 32, 8, 42, 32, 21, 65, 43, 49, 84]\n",
      "Length of the list: 80\n"
     ]
    }
   ],
   "source": [
    "# Your code here\n",
    "sample_list_2 = []\n",
    "\n",
    "for i in range(0,80):\n",
    "    x = random.randint(0,100)\n",
    "    sample_list_2.append(x)\n",
    "\n",
    "print(\"List of 80 random numbers between 0 and 100:\", sample_list_2)\n",
    "print(\"Length of the list:\", len(sample_list_2))"
   ]
  },
  {
   "cell_type": "markdown",
   "metadata": {},
   "source": [
    "#### 4 - Convert `sample_list_2` to a set called `set2`. Print the length of the set. Is its length still 80?"
   ]
  },
  {
   "cell_type": "code",
   "execution_count": 18,
   "metadata": {},
   "outputs": [
    {
     "name": "stdout",
     "output_type": "stream",
     "text": [
      "set2= {1, 3, 4, 5, 6, 8, 12, 13, 16, 17, 18, 21, 23, 24, 25, 27, 28, 29, 31, 32, 33, 34, 37, 38, 42, 43, 47, 49, 52, 53, 56, 59, 64, 65, 66, 68, 69, 72, 73, 74, 76, 80, 84, 85, 86, 87, 90, 91, 94, 95, 96, 97, 99, 100}\n",
      "Length of the set: 54\n"
     ]
    }
   ],
   "source": [
    "# Your code here\n",
    "sample_list_2 = set(sample_list_2)\n",
    "print(\"set2=\", set(sample_list_2))\n",
    "print(\"Length of the set:\", len(set(sample_list_2)))"
   ]
  },
  {
   "cell_type": "markdown",
   "metadata": {},
   "source": [
    "#### 5 - Identify the elements present in `set1` but not in `set2`. Assign the elements to a new set named `set3`."
   ]
  },
  {
   "cell_type": "code",
   "execution_count": 20,
   "metadata": {},
   "outputs": [
    {
     "name": "stdout",
     "output_type": "stream",
     "text": [
      "set3= {0, 2, 7, 9, 10, 11, 14, 15, 19, 26, 30, 35, 36, 40, 44, 45, 48, 57, 62, 70, 75, 78, 82, 83, 88, 89, 93, 98}\n"
     ]
    }
   ],
   "source": [
    "# Your code here\n",
    "set1 = {0, 2, 3, 4, 5, 6, 7, 9, 10, 11, 12, 14, 15, 17, 18, 19, 21, 26, 29, 30, 32, 34, 35, 36, 37, 40, 42, 43, 44, 45, 48, 52, 53, 56, 57, 62, 64, 69, 70, 72, 75, 76, 78, 80, 82, 83, 87, 88, 89, 91, 93, 95, 96, 97, 98, 99}\n",
    "set2 = {1, 3, 4, 5, 6, 8, 12, 13, 16, 17, 18, 21, 23, 24, 25, 27, 28, 29, 31, 32, 33, 34, 37, 38, 42, 43, 47, 49, 52, 53, 56, 59, 64, 65, 66, 68, 69, 72, 73, 74, 76, 80, 84, 85, 86, 87, 90, 91, 94, 95, 96, 97, 99, 100}\n",
    "\n",
    "set3 = set1.difference(set2) \n",
    "\n",
    "print(\"set3=\",set3)"
   ]
  },
  {
   "cell_type": "markdown",
   "metadata": {},
   "source": [
    "#### 6 - Identify the elements present in `set2` but not in `set1`. Assign the elements to a new set named `set4`."
   ]
  },
  {
   "cell_type": "code",
   "execution_count": 21,
   "metadata": {},
   "outputs": [
    {
     "name": "stdout",
     "output_type": "stream",
     "text": [
      "set4= {1, 8, 13, 16, 23, 24, 25, 27, 28, 31, 33, 38, 47, 49, 59, 65, 66, 68, 73, 74, 84, 85, 86, 90, 94, 100}\n"
     ]
    }
   ],
   "source": [
    "# Your code here\n",
    "set1 = {0, 2, 3, 4, 5, 6, 7, 9, 10, 11, 12, 14, 15, 17, 18, 19, 21, 26, 29, 30, 32, 34, 35, 36, 37, 40, 42, 43, 44, 45, 48, 52, 53, 56, 57, 62, 64, 69, 70, 72, 75, 76, 78, 80, 82, 83, 87, 88, 89, 91, 93, 95, 96, 97, 98, 99}\n",
    "set2 = {1, 3, 4, 5, 6, 8, 12, 13, 16, 17, 18, 21, 23, 24, 25, 27, 28, 29, 31, 32, 33, 34, 37, 38, 42, 43, 47, 49, 52, 53, 56, 59, 64, 65, 66, 68, 69, 72, 73, 74, 76, 80, 84, 85, 86, 87, 90, 91, 94, 95, 96, 97, 99, 100}\n",
    "\n",
    "set4 = set2.difference(set1) \n",
    "\n",
    "print(\"set4=\",set4)"
   ]
  },
  {
   "cell_type": "markdown",
   "metadata": {},
   "source": [
    "#### 7 - Now Identify the elements shared between `set1` and `set2`. Assign the elements to a new set named `set5`."
   ]
  },
  {
   "cell_type": "code",
   "execution_count": 23,
   "metadata": {},
   "outputs": [
    {
     "name": "stdout",
     "output_type": "stream",
     "text": [
      "set5= {3, 4, 5, 6, 12, 17, 18, 21, 29, 32, 34, 37, 42, 43, 52, 53, 56, 64, 69, 72, 76, 80, 87, 91, 95, 96, 97, 99}\n"
     ]
    }
   ],
   "source": [
    "# Your code here\n",
    "set1 = {0, 2, 3, 4, 5, 6, 7, 9, 10, 11, 12, 14, 15, 17, 18, 19, 21, 26, 29, 30, 32, 34, 35, 36, 37, 40, 42, 43, 44, 45, 48, 52, 53, 56, 57, 62, 64, 69, 70, 72, 75, 76, 78, 80, 82, 83, 87, 88, 89, 91, 93, 95, 96, 97, 98, 99}\n",
    "set2 = {1, 3, 4, 5, 6, 8, 12, 13, 16, 17, 18, 21, 23, 24, 25, 27, 28, 29, 31, 32, 33, 34, 37, 38, 42, 43, 47, 49, 52, 53, 56, 59, 64, 65, 66, 68, 69, 72, 73, 74, 76, 80, 84, 85, 86, 87, 90, 91, 94, 95, 96, 97, 99, 100}\n",
    "set5 = set1.intersection(set2) \n",
    "print(\"set5=\",set5) "
   ]
  },
  {
   "cell_type": "markdown",
   "metadata": {},
   "source": [
    "#### 8 - Create an empty set called `set6`."
   ]
  },
  {
   "cell_type": "code",
   "execution_count": 24,
   "metadata": {},
   "outputs": [],
   "source": [
    "# Your code here\n",
    "set6= {}"
   ]
  },
  {
   "cell_type": "markdown",
   "metadata": {},
   "source": [
    "#### 9 - Add `set3` and `set5` to `set6` using the Python Set `update` method."
   ]
  },
  {
   "cell_type": "code",
   "execution_count": 25,
   "metadata": {},
   "outputs": [
    {
     "name": "stdout",
     "output_type": "stream",
     "text": [
      "set6= {0, 2, 3, 4, 5, 6, 7, 9, 10, 11, 12, 14, 15, 17, 18, 19, 21, 26, 29, 30, 32, 34, 35, 36, 37, 40, 42, 43, 44, 45, 48, 52, 53, 56, 57, 62, 64, 69, 70, 72, 75, 76, 78, 80, 82, 83, 87, 88, 89, 91, 93, 95, 96, 97, 98, 99}\n"
     ]
    }
   ],
   "source": [
    "# Your code here\n",
    "set3= {0, 2, 7, 9, 10, 11, 14, 15, 19, 26, 30, 35, 36, 40, 44, 45, 48, 57, 62, 70, 75, 78, 82, 83, 88, 89, 93, 98}\n",
    "set5= {3, 4, 5, 6, 12, 17, 18, 21, 29, 32, 34, 37, 42, 43, 52, 53, 56, 64, 69, 72, 76, 80, 87, 91, 95, 96, 97, 99}\n",
    "set6 = set3.union(set5) \n",
    "print(\"set6=\", set6)"
   ]
  },
  {
   "cell_type": "markdown",
   "metadata": {},
   "source": [
    "#### 10 - Check if `set1` and `set6` are equal."
   ]
  },
  {
   "cell_type": "code",
   "execution_count": 26,
   "metadata": {},
   "outputs": [
    {
     "data": {
      "text/plain": [
       "True"
      ]
     },
     "execution_count": 26,
     "metadata": {},
     "output_type": "execute_result"
    }
   ],
   "source": [
    "# Your code here\n",
    "set1==set6"
   ]
  },
  {
   "cell_type": "markdown",
   "metadata": {},
   "source": [
    "#### 11 - Check if `set1` contains `set2` using the Python Set `issubset` method. Then check if `set1` contains `set3`.*"
   ]
  },
  {
   "cell_type": "code",
   "execution_count": 29,
   "metadata": {},
   "outputs": [
    {
     "name": "stdout",
     "output_type": "stream",
     "text": [
      "set1 contains set2: False\n",
      "set1 contains set3: False\n"
     ]
    }
   ],
   "source": [
    "# Your code here\n",
    "set1 = {0, 2, 3, 4, 5, 6, 7, 9, 10, 11, 12, 14, 15, 17, 18, 19, 21, 26, 29, 30, 32, 34, 35, 36, 37, 40, 42, 43, 44, 45, 48, 52, 53, 56, 57, 62, 64, 69, 70, 72, 75, 76, 78, 80, 82, 83, 87, 88, 89, 91, 93, 95, 96, 97, 98, 99}\n",
    "set2 = {1, 3, 4, 5, 6, 8, 12, 13, 16, 17, 18, 21, 23, 24, 25, 27, 28, 29, 31, 32, 33, 34, 37, 38, 42, 43, 47, 49, 52, 53, 56, 59, 64, 65, 66, 68, 69, 72, 73, 74, 76, 80, 84, 85, 86, 87, 90, 91, 94, 95, 96, 97, 99, 100}\n",
    "set1_2 = set1.issubset(set2) \n",
    "print(\"set1 contains set2:\", set1_2)\n",
    "\n",
    "set1 = {0, 2, 3, 4, 5, 6, 7, 9, 10, 11, 12, 14, 15, 17, 18, 19, 21, 26, 29, 30, 32, 34, 35, 36, 37, 40, 42, 43, 44, 45, 48, 52, 53, 56, 57, 62, 64, 69, 70, 72, 75, 76, 78, 80, 82, 83, 87, 88, 89, 91, 93, 95, 96, 97, 98, 99}\n",
    "set3= {0, 2, 7, 9, 10, 11, 14, 15, 19, 26, 30, 35, 36, 40, 44, 45, 48, 57, 62, 70, 75, 78, 82, 83, 88, 89, 93, 98}\n",
    "set1_3=set1.issubset(set3)\n",
    "print(\"set1 contains set3:\", set1_3)"
   ]
  },
  {
   "cell_type": "markdown",
   "metadata": {},
   "source": [
    "#### 12 -Using the Python Set `union` method, aggregate `set3`, `set4`, and `set5`. Then aggregate `set1` and `set2`. \n",
    "\n",
    "#### Check if the aggregated values are equal."
   ]
  },
  {
   "cell_type": "code",
   "execution_count": 35,
   "metadata": {},
   "outputs": [
    {
     "name": "stdout",
     "output_type": "stream",
     "text": [
      "Aggregated values of set 3, set4 and set5= {0, 1, 2, 3, 4, 5, 6, 7, 8, 9, 10, 11, 12, 13, 14, 15, 16, 17, 18, 19, 21, 23, 24, 25, 26, 27, 28, 29, 30, 31, 32, 33, 34, 35, 36, 37, 38, 40, 42, 43, 44, 45, 47, 48, 49, 52, 53, 56, 57, 59, 62, 64, 65, 66, 68, 69, 70, 72, 73, 74, 75, 76, 78, 80, 82, 83, 84, 85, 86, 87, 88, 89, 90, 91, 93, 94, 95, 96, 97, 98, 99, 100}\n",
      "Aggregated values of set1 and set2= {0, 1, 2, 3, 4, 5, 6, 7, 8, 9, 10, 11, 12, 13, 14, 15, 16, 17, 18, 19, 21, 23, 24, 25, 26, 27, 28, 29, 30, 31, 32, 33, 34, 35, 36, 37, 38, 40, 42, 43, 44, 45, 47, 48, 49, 52, 53, 56, 57, 59, 62, 64, 65, 66, 68, 69, 70, 72, 73, 74, 75, 76, 78, 80, 82, 83, 84, 85, 86, 87, 88, 89, 90, 91, 93, 94, 95, 96, 97, 98, 99, 100}\n"
     ]
    },
    {
     "data": {
      "text/plain": [
       "True"
      ]
     },
     "execution_count": 35,
     "metadata": {},
     "output_type": "execute_result"
    }
   ],
   "source": [
    "# Your code here\n",
    "set3= {0, 2, 7, 9, 10, 11, 14, 15, 19, 26, 30, 35, 36, 40, 44, 45, 48, 57, 62, 70, 75, 78, 82, 83, 88, 89, 93, 98}\n",
    "set4= {1, 8, 13, 16, 23, 24, 25, 27, 28, 31, 33, 38, 47, 49, 59, 65, 66, 68, 73, 74, 84, 85, 86, 90, 94, 100}\n",
    "set5= {3, 4, 5, 6, 12, 17, 18, 21, 29, 32, 34, 37, 42, 43, 52, 53, 56, 64, 69, 72, 76, 80, 87, 91, 95, 96, 97, 99}\n",
    "set345 = set3.union(set4, set5) \n",
    "print(\"Aggregated values of set 3, set4 and set5=\", set345) \n",
    "set1 = {0, 2, 3, 4, 5, 6, 7, 9, 10, 11, 12, 14, 15, 17, 18, 19, 21, 26, 29, 30, 32, 34, 35, 36, 37, 40, 42, 43, 44, 45, 48, 52, 53, 56, 57, 62, 64, 69, 70, 72, 75, 76, 78, 80, 82, 83, 87, 88, 89, 91, 93, 95, 96, 97, 98, 99}\n",
    "set2 = {1, 3, 4, 5, 6, 8, 12, 13, 16, 17, 18, 21, 23, 24, 25, 27, 28, 29, 31, 32, 33, 34, 37, 38, 42, 43, 47, 49, 52, 53, 56, 59, 64, 65, 66, 68, 69, 72, 73, 74, 76, 80, 84, 85, 86, 87, 90, 91, 94, 95, 96, 97, 99, 100}\n",
    "set_12=set1.union(set2)\n",
    "print(\"Aggregated values of set1 and set2=\", set_12)\n",
    "set345==set_12"
   ]
  },
  {
   "cell_type": "markdown",
   "metadata": {},
   "source": [
    "#### 13 -Using the `pop` method, remove the first element from `set1`."
   ]
  },
  {
   "cell_type": "code",
   "execution_count": 50,
   "metadata": {},
   "outputs": [
    {
     "name": "stdout",
     "output_type": "stream",
     "text": [
      "0\n",
      "set 1 after pop first element: {2, 3, 4, 5, 6, 7, 9, 10, 11, 12, 14, 15, 17, 18, 19, 21, 26, 29, 30, 32, 34, 35, 36, 37, 40, 42, 43, 44, 45, 48, 52, 53, 56, 57, 62, 64, 69, 70, 72, 75, 76, 78, 80, 82, 83, 87, 88, 89, 91, 93, 95, 96, 97, 98, 99}\n"
     ]
    }
   ],
   "source": [
    "# Your code here\n",
    "set1 = {0, 2, 3, 4, 5, 6, 7, 9, 10, 11, 12, 14, 15, 17, 18, 19, 21, 26, 29, 30, 32, 34, 35, 36, 37, 40, 42, 43, 44, 45, 48, 52, 53, 56, 57, 62, 64, 69, 70, 72, 75, 76, 78, 80, 82, 83, 87, 88, 89, 91, 93, 95, 96, 97, 98, 99}\n",
    "\n",
    "print(set1.pop())\n",
    "print(\"set 1 after pop first element:\", set1)"
   ]
  },
  {
   "cell_type": "markdown",
   "metadata": {},
   "source": [
    "#### 14 -Remove every element in the following list from `set1` if they are present in the set. Print the remaining elements.\n",
    "\n",
    "```\n",
    "list_to_remove = [1, 9, 11, 19, 21, 29, 31, 39, 41, 49, 51, 59, 61, 69, 71, 79, 81, 89, 91, 99]\n",
    "```"
   ]
  },
  {
   "cell_type": "code",
   "execution_count": 44,
   "metadata": {},
   "outputs": [
    {
     "name": "stdout",
     "output_type": "stream",
     "text": [
      "set1 without numbers removed: {0, 2, 3, 4, 5, 6, 7, 10, 12, 14, 15, 17, 18, 26, 30, 32, 34, 35, 36, 37, 40, 42, 43, 44, 45, 48, 52, 53, 56, 57, 62, 64, 70, 72, 75, 76, 78, 80, 82, 83, 87, 88, 93, 95, 96, 97, 98}\n"
     ]
    }
   ],
   "source": [
    "# Your code here\n",
    "set1 = {0, 2, 3, 4, 5, 6, 7, 9, 10, 11, 12, 14, 15, 17, 18, 19, 21, 26, 29, 30, 32, 34, 35, 36, 37, 40, 42, 43, 44, 45, 48, 52, 53, 56, 57, 62, 64, 69, 70, 72, 75, 76, 78, 80, 82, 83, 87, 88, 89, 91, 93, 95, 96, 97, 98, 99}\n",
    "set1.discard(1)\n",
    "set1.discard(9)\n",
    "set1.discard(11)\n",
    "set1.discard(19)\n",
    "set1.discard(21)\n",
    "set1.discard(29)\n",
    "set1.discard(31)\n",
    "set1.discard(39)\n",
    "set1.discard(41)\n",
    "set1.discard(49)\n",
    "set1.discard(51)\n",
    "set1.discard(59)\n",
    "set1.discard(61)\n",
    "set1.discard(69)\n",
    "set1.discard(71)\n",
    "set1.discard(79)\n",
    "set1.discard(81)\n",
    "set1.discard(89)\n",
    "set1.discard(91)\n",
    "set1.discard(99)\n",
    "print (\"set1 without numbers removed:\", set1)"
   ]
  },
  {
   "cell_type": "markdown",
   "metadata": {},
   "source": [
    "#### 15 -The objective of this lab is to provide you a overview of manipulating sets in Python and how they can be integrated within a real usecase\n",
    "#### For the exercises below it's strongly advised to quickly check this link: https://docs.python.org/2/library/sets.html#sets.Set\n",
    "#### Imagine you need to create the grocery list for your family! Below you will see a list of items each family member wants. There will be repetitions because this family has the habbit of each time they notice something is missing to write it down. The problem is that they don't really talk to each other and therefore some items in the list are repeated. With the collection of questions below you will see how they solve repetion and create a grocery list with unique elements.\n",
    "\n"
   ]
  },
  {
   "cell_type": "code",
   "execution_count": 53,
   "metadata": {},
   "outputs": [],
   "source": [
    "father_list = ['garlic', 'watermelon', 'toilet paper', 'yogurt', 'onions', 'gums', 'flour', 'cucumber', 'watermelon', 'yogurt', 'garlic']\n",
    "\n",
    "mother_list = []\n",
    "\n",
    "Jo_list = ['blueberries', 'sugar', 'watermelon', 'gums', 'tomatoes', 'yogurt', 'juice', 'milk', 'onions', 'garlic', 'cucumber', 'sugar', 'blueberries', 'gums', 'yogurt']\n",
    "\n",
    "Carlos_list = ['tomatoes', 'water', 'onions', 'blueberries', 'garlic', 'flour', 'cherries', 'tomatoes', 'onions', 'water', 'tomatoes', 'toilet paper']\n",
    "\n",
    "Mattia_list = []\n",
    "\n",
    "\n"
   ]
  },
  {
   "cell_type": "markdown",
   "metadata": {},
   "source": [
    "#### 15.1- As you can see there are items repeated in each list. Creat a sequence of iterable elements with dintinct items that each family member wants. You can do it in two different ways. Assign each one (set) to a variable with the name of the family member (ex: father_set)."
   ]
  },
  {
   "cell_type": "code",
   "execution_count": 54,
   "metadata": {},
   "outputs": [
    {
     "name": "stdout",
     "output_type": "stream",
     "text": [
      "Father set: {'yogurt', 'gums', 'cucumber', 'toilet paper', 'flour', 'watermelon', 'garlic', 'onions'}\n",
      "Jo Set {'watermelon', 'yogurt', 'tomatoes', 'cucumber', 'sugar', 'milk', 'juice', 'blueberries', 'gums', 'garlic', 'onions'}\n",
      "Carlos set: {'cherries', 'water', 'toilet paper', 'flour', 'blueberries', 'tomatoes', 'garlic', 'onions'}\n"
     ]
    }
   ],
   "source": [
    "# Your code here\n",
    "father_set=set(father_list)\n",
    "print(\"Father set:\",father_set)\n",
    "Jo_set=set(Jo_list)\n",
    "print(\"Jo Set\", Jo_set)\n",
    "Carlos_set=set(Carlos_list)\n",
    "print(\"Carlos set:\", Carlos_set)"
   ]
  },
  {
   "cell_type": "markdown",
   "metadata": {},
   "source": [
    "#### 15.2- Q: Mattia wants the same items that his brother Carlos and his sister Jo but doesn't want anything they both want.\n",
    "\n",
    "##### Hint: check out the documentation for `x.symmetric_difference(y)`."
   ]
  },
  {
   "cell_type": "code",
   "execution_count": 56,
   "metadata": {},
   "outputs": [
    {
     "name": "stdout",
     "output_type": "stream",
     "text": [
      "Mathia set: {'watermelon', 'yogurt', 'cherries', 'water', 'cucumber', 'sugar', 'milk', 'toilet paper', 'flour', 'juice', 'gums'}\n"
     ]
    }
   ],
   "source": [
    "# Your code here\n",
    "Mathia_set=Carlos_set.symmetric_difference(Jo_set)\n",
    "print(\"Mathia set:\", Mathia_set)"
   ]
  },
  {
   "cell_type": "markdown",
   "metadata": {},
   "source": [
    "#### 15.3- The line of code below  will  generate a list of random elements from a collection of items, with replacement. Run it and from it create a sequence of unique elements and assign it to the variable mother.\n"
   ]
  },
  {
   "cell_type": "code",
   "execution_count": 51,
   "metadata": {},
   "outputs": [
    {
     "name": "stdout",
     "output_type": "stream",
     "text": [
      "The Mother list: ['yogurt', 'flour', 'tomatoes', 'bread', 'blueberries', 'watermelon', 'gums', 'bread', 'deodorant', 'shampoo']\n"
     ]
    }
   ],
   "source": [
    "import random\n",
    "items = ['milk', 'water', 'chocolate', 'blueberries', 'shampoo', 'flour', 'bread', 'sugar', 'watermelon', 'vinegar', 'tomatoes', 'yogurt', 'juice', 'gums', 'onions', 'garlic', 'cucumber', 'mushrooms', 'toilet paper', 'oranges', 'deodorant', 'cherries']\n",
    "\n",
    "mother_list = random.choices(items,k = 10) # https://docs.python.org/3/library/random.html\n",
    "\n",
    "print(\"Mother list:\", mother_list)"
   ]
  },
  {
   "cell_type": "code",
   "execution_count": 59,
   "metadata": {},
   "outputs": [
    {
     "name": "stdout",
     "output_type": "stream",
     "text": [
      "Mother set: {'yogurt', 'watermelon', 'gums', 'bread', 'deodorant', 'flour', 'blueberries', 'tomatoes', 'shampoo'}\n"
     ]
    }
   ],
   "source": [
    "# Your code here\n",
    "mother_list = ['yogurt', 'flour', 'tomatoes', 'bread', 'blueberries', 'watermelon', 'gums', 'bread', 'deodorant', 'shampoo']\n",
    "mother_set=set(mother_list)\n",
    "print(\"Mother set:\", mother_set)"
   ]
  },
  {
   "cell_type": "markdown",
   "metadata": {},
   "source": [
    "#### 15.4- Before leaving the house to the grocery store the father found a lot of toilet paper, so the mother decided to remove it from the items needed to be bought. Use the `.discard()` method to remove from each set created before the 'toilet paper'. \n",
    "\n",
    "#### Hint: Try to first create a list contaning the variables of each set created before, then loop through them and remove the unecessary item. \n",
    "\n",
    "##### Note: The`.discard()` method will remove and update the set without the need of reassignment.\n",
    "\n"
   ]
  },
  {
   "cell_type": "code",
   "execution_count": 63,
   "metadata": {},
   "outputs": [
    {
     "name": "stdout",
     "output_type": "stream",
     "text": [
      "father_set= {'yogurt', 'gums', 'cucumber', 'flour', 'watermelon', 'garlic', 'onions'}\n",
      "mother_set= {'yogurt', 'watermelon', 'gums', 'bread', 'deodorant', 'flour', 'blueberries', 'tomatoes', 'shampoo'}\n",
      "Mathia_set= {'watermelon', 'yogurt', 'cherries', 'water', 'cucumber', 'sugar', 'milk', 'flour', 'juice', 'gums'}\n",
      "Jo_set= {'watermelon', 'yogurt', 'tomatoes', 'cucumber', 'sugar', 'milk', 'juice', 'blueberries', 'gums', 'garlic', 'onions'}\n",
      "Carlos_set= {'cherries', 'water', 'flour', 'blueberries', 'tomatoes', 'garlic', 'onions'}\n"
     ]
    }
   ],
   "source": [
    "# Your code here\n",
    "father_set.discard('toilet paper')\n",
    "mother_set.discard('toilet paper')\n",
    "Mathia_set.discard('toilet paper')\n",
    "Jo_set.discard('toilet paper')\n",
    "Carlos_set.discard('toilet paper')\n",
    "print(\"father_set=\", father_set)\n",
    "print(\"mother_set=\", mother_set)\n",
    "print(\"Mathia_set=\", Mathia_set)\n",
    "print(\"Jo_set=\", Jo_set)\n",
    "print(\"Carlos_set=\", Carlos_set)"
   ]
  },
  {
   "cell_type": "markdown",
   "metadata": {},
   "source": [
    "#### 15.5- Create a set with all the groceries needed to be bought for the house (no repetitions)."
   ]
  },
  {
   "cell_type": "code",
   "execution_count": 68,
   "metadata": {},
   "outputs": [
    {
     "name": "stdout",
     "output_type": "stream",
     "text": [
      "Grocieres needed: {'yogurt', 'deodorant', 'flour', 'blueberries', 'onions', 'shampoo', 'watermelon', 'tomatoes', 'cherries', 'bread', 'water', 'cucumber', 'sugar', 'milk', 'juice', 'gums', 'garlic'}\n"
     ]
    }
   ],
   "source": [
    "# Your code here\n",
    "fmother_set=father_set.union(mother_set)\n",
    "MaJo_set=Mathia_set.union(Jo_set)\n",
    "fmother_Majo_set=fmother_set.union(MaJo_set)\n",
    "groceries_needed_set= fmother_Majo_set.union(Carlos_set)\n",
    "print(\"Grocieres needed:\", groceries_needed_set)"
   ]
  },
  {
   "cell_type": "markdown",
   "metadata": {},
   "source": [
    "#### 15.6- The Father said that he could only buy five items this time. So he decided to arbitraly pick wich ones to buy this time.\n",
    "\n",
    "##### Hint: use the `.pop()` method."
   ]
  },
  {
   "cell_type": "code",
   "execution_count": 75,
   "metadata": {},
   "outputs": [
    {
     "name": "stdout",
     "output_type": "stream",
     "text": [
      "yogurt\n",
      "watermelon\n",
      "gums\n",
      "tomatoes\n",
      "cherries\n",
      "bread\n",
      "water\n",
      "cucumber\n",
      "deodorant\n",
      "sugar\n",
      "milk\n",
      "flour\n",
      "The five items that Father will buy: {'juice', 'blueberries', 'onions', 'shampoo', 'garlic'}\n"
     ]
    }
   ],
   "source": [
    "# Your code here\n",
    "groceries_needed_set= {'yogurt', 'deodorant', 'flour', 'blueberries', 'onions', 'shampoo', 'watermelon', 'tomatoes', 'cherries', 'bread', 'water', 'cucumber', 'sugar', 'milk', 'juice', 'gums', 'garlic'}\n",
    "x=groceries_needed_set.pop()\n",
    "print(x)\n",
    "x=groceries_needed_set.pop()\n",
    "print(x)\n",
    "x=groceries_needed_set.pop()\n",
    "print(x)\n",
    "x=groceries_needed_set.pop()\n",
    "print(x)\n",
    "x=groceries_needed_set.pop()\n",
    "print(x)\n",
    "x=groceries_needed_set.pop()\n",
    "print(x)\n",
    "x=groceries_needed_set.pop()\n",
    "print(x)\n",
    "x=groceries_needed_set.pop()\n",
    "print(x)\n",
    "x=groceries_needed_set.pop()\n",
    "print(x)\n",
    "x=groceries_needed_set.pop()\n",
    "print(x)\n",
    "x=groceries_needed_set.pop()\n",
    "print(x)\n",
    "x=groceries_needed_set.pop()\n",
    "print(x)\n",
    "print(\"The five items that father will buy:\", groceries_needed_set)"
   ]
  },
  {
   "cell_type": "code",
   "execution_count": null,
   "metadata": {},
   "outputs": [],
   "source": []
  }
 ],
 "metadata": {
  "kernelspec": {
   "display_name": "Python 3",
   "language": "python",
   "name": "python3"
  },
  "language_info": {
   "codemirror_mode": {
    "name": "ipython",
    "version": 3
   },
   "file_extension": ".py",
   "mimetype": "text/x-python",
   "name": "python",
   "nbconvert_exporter": "python",
   "pygments_lexer": "ipython3",
   "version": "3.8.3"
  }
 },
 "nbformat": 4,
 "nbformat_minor": 2
}
